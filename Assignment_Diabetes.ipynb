{
  "nbformat": 4,
  "nbformat_minor": 0,
  "metadata": {
    "colab": {
      "name": "Assignment Diabetes.ipynb",
      "provenance": [],
      "collapsed_sections": []
    },
    "kernelspec": {
      "name": "python3",
      "display_name": "Python 3"
    }
  },
  "cells": [
    {
      "cell_type": "code",
      "metadata": {
        "id": "4KSj8-K5RWy8",
        "colab_type": "code",
        "colab": {
          "base_uri": "https://localhost:8080/",
          "height": 122
        },
        "outputId": "23a42e4a-412f-4c92-a165-cafee07fae33"
      },
      "source": [
        "from google.colab import drive\n",
        "drive.mount('/content/drive')"
      ],
      "execution_count": 2,
      "outputs": [
        {
          "output_type": "stream",
          "text": [
            "Go to this URL in a browser: https://accounts.google.com/o/oauth2/auth?client_id=947318989803-6bn6qk8qdgf4n4g3pfee6491hc0brc4i.apps.googleusercontent.com&redirect_uri=urn%3aietf%3awg%3aoauth%3a2.0%3aoob&scope=email%20https%3a%2f%2fwww.googleapis.com%2fauth%2fdocs.test%20https%3a%2f%2fwww.googleapis.com%2fauth%2fdrive%20https%3a%2f%2fwww.googleapis.com%2fauth%2fdrive.photos.readonly%20https%3a%2f%2fwww.googleapis.com%2fauth%2fpeopleapi.readonly&response_type=code\n",
            "\n",
            "Enter your authorization code:\n",
            "4/4AGBsPg19Qowgsr9DPefZ7JqbADP6rcXE-imGIPp0mW9MwJvX5Y1l9A\n",
            "Mounted at /content/drive\n"
          ],
          "name": "stdout"
        }
      ]
    },
    {
      "cell_type": "code",
      "metadata": {
        "id": "e1ofwn_YQh_j",
        "colab_type": "code",
        "colab": {
          "base_uri": "https://localhost:8080/",
          "height": 419
        },
        "outputId": "9a620b99-3be9-42e5-d7d9-298717c84c11"
      },
      "source": [
        "import os\n",
        "import pandas as pd\n",
        "import numpy as np\n",
        "import matplotlib.pyplot as plt\n",
        "import seaborn as sns\n",
        "\n",
        "os.chdir('/content/drive/My Drive/Dataset')\n",
        "os.listdir('.')\n",
        "# file_exist = os.path.isfile('prima-indians-diabetes.csv')\n",
        "# file_exist\n",
        "file_name = 'pima-indians-diabetes.csv'\n",
        "dataset = pd.read_csv(file_name)\n",
        "dataset"
      ],
      "execution_count": 34,
      "outputs": [
        {
          "output_type": "execute_result",
          "data": {
            "text/html": [
              "<div>\n",
              "<style scoped>\n",
              "    .dataframe tbody tr th:only-of-type {\n",
              "        vertical-align: middle;\n",
              "    }\n",
              "\n",
              "    .dataframe tbody tr th {\n",
              "        vertical-align: top;\n",
              "    }\n",
              "\n",
              "    .dataframe thead th {\n",
              "        text-align: right;\n",
              "    }\n",
              "</style>\n",
              "<table border=\"1\" class=\"dataframe\">\n",
              "  <thead>\n",
              "    <tr style=\"text-align: right;\">\n",
              "      <th></th>\n",
              "      <th>Pregnancies</th>\n",
              "      <th>Glucose</th>\n",
              "      <th>BloodPressure</th>\n",
              "      <th>SkinThickness</th>\n",
              "      <th>Insulin</th>\n",
              "      <th>BMI</th>\n",
              "      <th>DiabetesPedigreeFunction</th>\n",
              "      <th>Age</th>\n",
              "      <th>Outcome</th>\n",
              "    </tr>\n",
              "  </thead>\n",
              "  <tbody>\n",
              "    <tr>\n",
              "      <th>0</th>\n",
              "      <td>6</td>\n",
              "      <td>148</td>\n",
              "      <td>72</td>\n",
              "      <td>35</td>\n",
              "      <td>0</td>\n",
              "      <td>33.6</td>\n",
              "      <td>0.627</td>\n",
              "      <td>50</td>\n",
              "      <td>1</td>\n",
              "    </tr>\n",
              "    <tr>\n",
              "      <th>1</th>\n",
              "      <td>1</td>\n",
              "      <td>85</td>\n",
              "      <td>66</td>\n",
              "      <td>29</td>\n",
              "      <td>0</td>\n",
              "      <td>26.6</td>\n",
              "      <td>0.351</td>\n",
              "      <td>31</td>\n",
              "      <td>0</td>\n",
              "    </tr>\n",
              "    <tr>\n",
              "      <th>2</th>\n",
              "      <td>8</td>\n",
              "      <td>183</td>\n",
              "      <td>64</td>\n",
              "      <td>0</td>\n",
              "      <td>0</td>\n",
              "      <td>23.3</td>\n",
              "      <td>0.672</td>\n",
              "      <td>32</td>\n",
              "      <td>1</td>\n",
              "    </tr>\n",
              "    <tr>\n",
              "      <th>3</th>\n",
              "      <td>1</td>\n",
              "      <td>89</td>\n",
              "      <td>66</td>\n",
              "      <td>23</td>\n",
              "      <td>94</td>\n",
              "      <td>28.1</td>\n",
              "      <td>0.167</td>\n",
              "      <td>21</td>\n",
              "      <td>0</td>\n",
              "    </tr>\n",
              "    <tr>\n",
              "      <th>4</th>\n",
              "      <td>0</td>\n",
              "      <td>137</td>\n",
              "      <td>40</td>\n",
              "      <td>35</td>\n",
              "      <td>168</td>\n",
              "      <td>43.1</td>\n",
              "      <td>2.288</td>\n",
              "      <td>33</td>\n",
              "      <td>1</td>\n",
              "    </tr>\n",
              "    <tr>\n",
              "      <th>...</th>\n",
              "      <td>...</td>\n",
              "      <td>...</td>\n",
              "      <td>...</td>\n",
              "      <td>...</td>\n",
              "      <td>...</td>\n",
              "      <td>...</td>\n",
              "      <td>...</td>\n",
              "      <td>...</td>\n",
              "      <td>...</td>\n",
              "    </tr>\n",
              "    <tr>\n",
              "      <th>763</th>\n",
              "      <td>10</td>\n",
              "      <td>101</td>\n",
              "      <td>76</td>\n",
              "      <td>48</td>\n",
              "      <td>180</td>\n",
              "      <td>32.9</td>\n",
              "      <td>0.171</td>\n",
              "      <td>63</td>\n",
              "      <td>0</td>\n",
              "    </tr>\n",
              "    <tr>\n",
              "      <th>764</th>\n",
              "      <td>2</td>\n",
              "      <td>122</td>\n",
              "      <td>70</td>\n",
              "      <td>27</td>\n",
              "      <td>0</td>\n",
              "      <td>36.8</td>\n",
              "      <td>0.340</td>\n",
              "      <td>27</td>\n",
              "      <td>0</td>\n",
              "    </tr>\n",
              "    <tr>\n",
              "      <th>765</th>\n",
              "      <td>5</td>\n",
              "      <td>121</td>\n",
              "      <td>72</td>\n",
              "      <td>23</td>\n",
              "      <td>112</td>\n",
              "      <td>26.2</td>\n",
              "      <td>0.245</td>\n",
              "      <td>30</td>\n",
              "      <td>0</td>\n",
              "    </tr>\n",
              "    <tr>\n",
              "      <th>766</th>\n",
              "      <td>1</td>\n",
              "      <td>126</td>\n",
              "      <td>60</td>\n",
              "      <td>0</td>\n",
              "      <td>0</td>\n",
              "      <td>30.1</td>\n",
              "      <td>0.349</td>\n",
              "      <td>47</td>\n",
              "      <td>1</td>\n",
              "    </tr>\n",
              "    <tr>\n",
              "      <th>767</th>\n",
              "      <td>1</td>\n",
              "      <td>93</td>\n",
              "      <td>70</td>\n",
              "      <td>31</td>\n",
              "      <td>0</td>\n",
              "      <td>30.4</td>\n",
              "      <td>0.315</td>\n",
              "      <td>23</td>\n",
              "      <td>0</td>\n",
              "    </tr>\n",
              "  </tbody>\n",
              "</table>\n",
              "<p>768 rows × 9 columns</p>\n",
              "</div>"
            ],
            "text/plain": [
              "     Pregnancies  Glucose  ...  Age  Outcome\n",
              "0              6      148  ...   50        1\n",
              "1              1       85  ...   31        0\n",
              "2              8      183  ...   32        1\n",
              "3              1       89  ...   21        0\n",
              "4              0      137  ...   33        1\n",
              "..           ...      ...  ...  ...      ...\n",
              "763           10      101  ...   63        0\n",
              "764            2      122  ...   27        0\n",
              "765            5      121  ...   30        0\n",
              "766            1      126  ...   47        1\n",
              "767            1       93  ...   23        0\n",
              "\n",
              "[768 rows x 9 columns]"
            ]
          },
          "metadata": {
            "tags": []
          },
          "execution_count": 34
        }
      ]
    },
    {
      "cell_type": "code",
      "metadata": {
        "id": "e4KcixzVS2q1",
        "colab_type": "code",
        "colab": {
          "base_uri": "https://localhost:8080/",
          "height": 68
        },
        "outputId": "146d9dbe-5ee9-469c-f027-b1e863024d8a"
      },
      "source": [
        "print(dataset['Outcome'].value_counts())"
      ],
      "execution_count": 28,
      "outputs": [
        {
          "output_type": "stream",
          "text": [
            "0    500\n",
            "1    268\n",
            "Name: Outcome, dtype: int64\n"
          ],
          "name": "stdout"
        }
      ]
    },
    {
      "cell_type": "code",
      "metadata": {
        "id": "CPFYCXMYTS77",
        "colab_type": "code",
        "colab": {}
      },
      "source": [
        "Y = dataset['Outcome']\n",
        "x = dataset.drop(['Outcome'], axis=1)"
      ],
      "execution_count": 35,
      "outputs": []
    },
    {
      "cell_type": "code",
      "metadata": {
        "id": "0dcC-6Z93QkZ",
        "colab_type": "code",
        "colab": {}
      },
      "source": [
        "from sklearn.preprocessing import StandardScaler\n",
        "scaler = StandardScaler()\n",
        "X = scaler.fit_transform(x)\n",
        "data_x = pd.DataFrame(X, columns=x.columns)"
      ],
      "execution_count": 30,
      "outputs": []
    },
    {
      "cell_type": "code",
      "metadata": {
        "id": "jNw9HyHl3Vy0",
        "colab_type": "code",
        "colab": {}
      },
      "source": [
        "from sklearn.model_selection import train_test_split\n",
        "x_train, x_test, y_train, y_test = train_test_split(data_x, Y, test_size=0.15, random_state=5)\n"
      ],
      "execution_count": 65,
      "outputs": []
    },
    {
      "cell_type": "code",
      "metadata": {
        "id": "ZiPXTpKe3y5f",
        "colab_type": "code",
        "colab": {
          "base_uri": "https://localhost:8080/",
          "height": 85
        },
        "outputId": "085e3ca8-9668-4698-bbb6-53413a931b00"
      },
      "source": [
        "#RandomForest\n",
        "from sklearn.ensemble import RandomForestClassifier\n",
        "from sklearn.metrics import f1_score, precision_score, recall_score\n",
        "\n",
        "rf_model = RandomForestClassifier(n_estimators=60, bootstrap=True, max_features = \"sqrt\")\n",
        "rf_model.fit(x_train, y_train)\n",
        "y_pred = rf_model.predict(x_test)\n",
        "print('Accuracy of Random Forest on test set: {:.2f}'.format(rf_model.score(x_test, y_test)))\n",
        "print('F1 SCORE = ', f1_score(y_test, y_pred, average=\"macro\"))\n",
        "print('PRECISION = ', precision_score(y_test, y_pred, average=\"macro\"))\n",
        "print('RECALL SCORE =', recall_score(y_test, y_pred, average=\"macro\"))"
      ],
      "execution_count": 66,
      "outputs": [
        {
          "output_type": "stream",
          "text": [
            "Accuracy of Random Forest on test set: 0.80\n",
            "F1 SCORE =  0.7665995975855131\n",
            "PRECISION =  0.7687830687830688\n",
            "RECALL SCORE = 0.7645833333333334\n"
          ],
          "name": "stdout"
        }
      ]
    },
    {
      "cell_type": "code",
      "metadata": {
        "id": "bo0N5Q9H5ckZ",
        "colab_type": "code",
        "colab": {
          "base_uri": "https://localhost:8080/",
          "height": 85
        },
        "outputId": "e8f48263-20a0-483d-a91b-ac0933eebe0d"
      },
      "source": [
        "#LogisticRegression\n",
        "from sklearn.linear_model import LogisticRegression\n",
        "# from sklearn.metrics import f1_score, precision_score, recall_score\n",
        "logreg = LogisticRegression()\n",
        "logreg.fit(x_train, y_train)\n",
        "y_pred = logreg.predict(x_test)\n",
        "print('Accuracy of logistic regression classifier on test set: {:.2f}'.format(logreg.score(x_test, y_test))) # .score() -> Accuracy\n",
        "print('F1 SCORE = ', f1_score(y_test, y_pred, average=\"macro\"))\n",
        "print('PRECISION = ', precision_score(y_test, y_pred, average=\"macro\"))\n",
        "print('RECALL SCORE =', recall_score(y_test, y_pred, average=\"macro\"))"
      ],
      "execution_count": 67,
      "outputs": [
        {
          "output_type": "stream",
          "text": [
            "Accuracy of logistic regression classifier on test set: 0.82\n",
            "F1 SCORE =  0.7901266477125872\n",
            "PRECISION =  0.7880602121108451\n",
            "RECALL SCORE = 0.7923611111111111\n"
          ],
          "name": "stdout"
        }
      ]
    },
    {
      "cell_type": "code",
      "metadata": {
        "id": "S-GgrrGM8Ez_",
        "colab_type": "code",
        "colab": {
          "base_uri": "https://localhost:8080/",
          "height": 221
        },
        "outputId": "7f4002d8-8512-4c44-ad61-525cc4a9a139"
      },
      "source": [
        "#SVM\n",
        "from sklearn.svm import SVC\n",
        "def FungsiSVM(kernel_type):\n",
        "  classifier = kernel_type\n",
        "  classifier.fit(x_train, y_train)\n",
        "  y_pred = classifier.predict(x_test)\n",
        "  print('Accuracy of SVC classifier on test set: {:.2f}'.format(classifier.score(x_test, y_test)))\n",
        "  print('F1 SCORE = ', f1_score(y_test, y_pred, average=\"macro\"))\n",
        "  print('PRECISION = ', precision_score(y_test, y_pred, average=\"macro\"))\n",
        "  print('RECALL SCORE =', recall_score(y_test, y_pred, average=\"macro\"))\n",
        "\n",
        "FungsiSVM(SVC(kernel = \"rbf\"))\n",
        "FungsiSVM(SVC(kernel = \"poly\"))\n",
        "FungsiSVM(SVC(kernel = \"linear\"))"
      ],
      "execution_count": 71,
      "outputs": [
        {
          "output_type": "stream",
          "text": [
            "Accuracy of SVC classifier on test set: 0.78\n",
            "F1 SCORE =  0.746303910419036\n",
            "PRECISION =  0.7483245149911817\n",
            "RECALL SCORE = 0.7444444444444445\n",
            "Accuracy of SVC classifier on test set: 0.78\n",
            "F1 SCORE =  0.7194940476190474\n",
            "PRECISION =  0.7426948051948052\n",
            "RECALL SCORE = 0.7076388888888889\n",
            "Accuracy of SVC classifier on test set: 0.83\n",
            "F1 SCORE =  0.7986111111111112\n",
            "PRECISION =  0.7986111111111112\n",
            "RECALL SCORE = 0.7986111111111112\n"
          ],
          "name": "stdout"
        }
      ]
    },
    {
      "cell_type": "code",
      "metadata": {
        "id": "f1tqe8Za8KCn",
        "colab_type": "code",
        "colab": {
          "base_uri": "https://localhost:8080/",
          "height": 34
        },
        "outputId": "576a3b62-ab6f-465c-a9e7-23e91bde7a9e"
      },
      "source": [
        "#KNN\n",
        "from sklearn.neighbors import KNeighborsClassifier\n",
        "\n",
        "knn = KNeighborsClassifier(n_neighbors=10) #atau (3)\n",
        "knn.fit(x_train, y_train)\n",
        "print(\"KNN Test Score\", knn.score(x_test, y_test))"
      ],
      "execution_count": 69,
      "outputs": [
        {
          "output_type": "stream",
          "text": [
            "KNN Test Score 0.7327586206896551\n"
          ],
          "name": "stdout"
        }
      ]
    },
    {
      "cell_type": "code",
      "metadata": {
        "id": "h2-AHXSz8Mrj",
        "colab_type": "code",
        "colab": {
          "base_uri": "https://localhost:8080/",
          "height": 85
        },
        "outputId": "8a41cfb1-3923-4fa2-9916-775534ef7521"
      },
      "source": [
        "#XGBoost\n",
        "import xgboost as xgb\n",
        "xg_reg = xgb.XGBClassifier(objective ='reg:squarederror', colsample_bytree = 0.3, learning_rate = 0.1, max_depth = 5, alpha = 10, n_estimator = 100)\n",
        "xg_reg.fit(x_train, y_train)\n",
        "y_pred = xg_reg.predict(x_test)\n",
        "print('Accuracy of XGBoost classifier on test set: {:.2f}'.format(xg_reg.score(x_test, y_test)))\n",
        "print('F1 SCORE = ', f1_score(y_test, y_pred, average=\"macro\"))\n",
        "print('PRECISION = ', precision_score(y_test, y_pred, average=\"macro\"))\n",
        "print('RECALL SCORE =', recall_score(y_test, y_pred, average=\"macro\"))"
      ],
      "execution_count": 70,
      "outputs": [
        {
          "output_type": "stream",
          "text": [
            "Accuracy of XGBoost classifier on test set: 0.80\n",
            "F1 SCORE =  0.7734182590233545\n",
            "PRECISION =  0.7683982683982684\n",
            "RECALL SCORE = 0.7798611111111111\n"
          ],
          "name": "stdout"
        }
      ]
    },
    {
      "cell_type": "markdown",
      "metadata": {
        "id": "P2BoGH-x_SES",
        "colab_type": "text"
      },
      "source": [
        "Pada awalnya digunakan komposisi data 80:20. Mendapatkan score sekitar 70%. kemudian ketika diubah komposisi menjadi 75:15, score yang didapatkan menjadi sekitar 80% untuk RandomForest, LogisticRegression, dan XGB. Tertinggi pada SVM kernel linear yaitu 83%"
      ]
    }
  ]
}